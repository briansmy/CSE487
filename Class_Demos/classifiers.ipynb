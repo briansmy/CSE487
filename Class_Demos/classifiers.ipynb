{
 "cells": [
  {
   "cell_type": "code",
   "execution_count": 33,
   "id": "d6e22e81-f8db-494d-a624-a68fde71cf51",
   "metadata": {},
   "outputs": [],
   "source": [
    "import pandas as pd\n",
    "import numpy as np\n",
    "import matplotlib.pyplot as plt\n",
    "\n",
    "from scipy import stats\n",
    "\n",
    "from sklearn.model_selection import train_test_split\n",
    "from sklearn.preprocessing import StandardScaler\n",
    "from sklearn.neighbors import KNeighborsClassifier\n",
    "from sklearn.metrics import classification_report\n",
    "from sklearn.metrics import confusion_matrix, ConfusionMatrixDisplay\n",
    "from sklearn.cluster import KMeans"
   ]
  },
  {
   "cell_type": "code",
   "execution_count": 34,
   "id": "6647449c-028e-4446-a7b6-afc98970df56",
   "metadata": {},
   "outputs": [
    {
     "name": "stdout",
     "output_type": "stream",
     "text": [
      "23373\n"
     ]
    },
    {
     "data": {
      "text/plain": [
       "BOROUGH                            int64\n",
       "NEIGHBORHOOD                      object\n",
       "BUILDING CLASS CATEGORY           object\n",
       "TAX CLASS AT PRESENT              object\n",
       "BLOCK                              int64\n",
       "LOT                                int64\n",
       "EASE-MENT                         object\n",
       "BUILDING CLASS AT PRESENT         object\n",
       "ADDRESS                           object\n",
       "APARTMENT NUMBER                  object\n",
       "ZIP CODE                           int64\n",
       "RESIDENTIAL UNITS                  int64\n",
       "COMMERCIAL UNITS                   int64\n",
       "TOTAL UNITS                        int64\n",
       "LAND SQUARE FEET                  object\n",
       "GROSS SQUARE FEET                 object\n",
       "YEAR BUILT                         int64\n",
       "TAX CLASS AT TIME OF SALE          int64\n",
       "BUILDING CLASS AT TIME OF SALE    object\n",
       "SALE PRICE                        object\n",
       "SALE DATE                         object\n",
       "dtype: object"
      ]
     },
     "execution_count": 34,
     "metadata": {},
     "output_type": "execute_result"
    }
   ],
   "source": [
    "sales = pd.read_csv(\"rollingsales_brooklyn.csv\")\n",
    "print(len(sales))\n",
    "sales.dtypes"
   ]
  },
  {
   "cell_type": "code",
   "execution_count": 35,
   "id": "ac0357b6-e5a7-4c9a-b4d2-29ac54d4e1ce",
   "metadata": {},
   "outputs": [],
   "source": [
    "# Format columns\n",
    "def format_num(s):\n",
    "    return float(s.replace(\"$\",\"\").replace(\",\",\"\"))\n",
    "\n",
    "# Strip extra whitespace from strings\n",
    "# Could also go further and convert everything to lowercase, collapse extra internal spaces, etc...\n",
    "str_cols = sales.select_dtypes([\"object\"])\n",
    "sales[str_cols.columns] = str_cols.apply(lambda x: x.str.strip())\n",
    "\n",
    "# Format numbers that have dollar signs and or commas so they can actually be treated as numbers\n",
    "num_cols = sales[[\"LAND SQUARE FEET\", \"SALE PRICE\", \"GROSS SQUARE FEET\"]]\n",
    "sales[num_cols.columns] = num_cols.apply(lambda x: x.apply(format_num,True))\n",
    "\n",
    "# Turn date string into an actual date object\n",
    "sales[\"SALE DATE\"] = pd.to_datetime(sales[\"SALE DATE\"])"
   ]
  },
  {
   "cell_type": "code",
   "execution_count": 36,
   "id": "ef9ff336-8bfc-448c-a8ad-1987a275286c",
   "metadata": {},
   "outputs": [
    {
     "data": {
      "text/html": [
       "<div>\n",
       "<style scoped>\n",
       "    .dataframe tbody tr th:only-of-type {\n",
       "        vertical-align: middle;\n",
       "    }\n",
       "\n",
       "    .dataframe tbody tr th {\n",
       "        vertical-align: top;\n",
       "    }\n",
       "\n",
       "    .dataframe thead th {\n",
       "        text-align: right;\n",
       "    }\n",
       "</style>\n",
       "<table border=\"1\" class=\"dataframe\">\n",
       "  <thead>\n",
       "    <tr style=\"text-align: right;\">\n",
       "      <th></th>\n",
       "      <th>LAND SQUARE FEET</th>\n",
       "      <th>GROSS SQUARE FEET</th>\n",
       "      <th>YEAR BUILT</th>\n",
       "      <th>SALE PRICE</th>\n",
       "      <th>TOTAL SQUARE FEET</th>\n",
       "    </tr>\n",
       "  </thead>\n",
       "  <tbody>\n",
       "    <tr>\n",
       "      <th>count</th>\n",
       "      <td>2.337300e+04</td>\n",
       "      <td>2.337300e+04</td>\n",
       "      <td>23373.000000</td>\n",
       "      <td>2.337300e+04</td>\n",
       "      <td>2.337300e+04</td>\n",
       "    </tr>\n",
       "    <tr>\n",
       "      <th>mean</th>\n",
       "      <td>3.558953e+03</td>\n",
       "      <td>3.005280e+03</td>\n",
       "      <td>1681.096436</td>\n",
       "      <td>5.283847e+05</td>\n",
       "      <td>6.564233e+03</td>\n",
       "    </tr>\n",
       "    <tr>\n",
       "      <th>std</th>\n",
       "      <td>7.830975e+04</td>\n",
       "      <td>2.295111e+04</td>\n",
       "      <td>658.095440</td>\n",
       "      <td>2.821726e+06</td>\n",
       "      <td>8.947425e+04</td>\n",
       "    </tr>\n",
       "    <tr>\n",
       "      <th>min</th>\n",
       "      <td>0.000000e+00</td>\n",
       "      <td>0.000000e+00</td>\n",
       "      <td>0.000000</td>\n",
       "      <td>0.000000e+00</td>\n",
       "      <td>0.000000e+00</td>\n",
       "    </tr>\n",
       "    <tr>\n",
       "      <th>25%</th>\n",
       "      <td>0.000000e+00</td>\n",
       "      <td>0.000000e+00</td>\n",
       "      <td>1901.000000</td>\n",
       "      <td>0.000000e+00</td>\n",
       "      <td>0.000000e+00</td>\n",
       "    </tr>\n",
       "    <tr>\n",
       "      <th>50%</th>\n",
       "      <td>1.850000e+03</td>\n",
       "      <td>1.760000e+03</td>\n",
       "      <td>1925.000000</td>\n",
       "      <td>2.500000e+05</td>\n",
       "      <td>3.813000e+03</td>\n",
       "    </tr>\n",
       "    <tr>\n",
       "      <th>75%</th>\n",
       "      <td>2.500000e+03</td>\n",
       "      <td>3.000000e+03</td>\n",
       "      <td>1950.000000</td>\n",
       "      <td>6.141970e+05</td>\n",
       "      <td>5.374000e+03</td>\n",
       "    </tr>\n",
       "    <tr>\n",
       "      <th>max</th>\n",
       "      <td>7.446955e+06</td>\n",
       "      <td>2.548000e+06</td>\n",
       "      <td>2013.000000</td>\n",
       "      <td>2.769470e+08</td>\n",
       "      <td>8.992663e+06</td>\n",
       "    </tr>\n",
       "  </tbody>\n",
       "</table>\n",
       "</div>"
      ],
      "text/plain": [
       "       LAND SQUARE FEET  GROSS SQUARE FEET    YEAR BUILT    SALE PRICE  \\\n",
       "count      2.337300e+04       2.337300e+04  23373.000000  2.337300e+04   \n",
       "mean       3.558953e+03       3.005280e+03   1681.096436  5.283847e+05   \n",
       "std        7.830975e+04       2.295111e+04    658.095440  2.821726e+06   \n",
       "min        0.000000e+00       0.000000e+00      0.000000  0.000000e+00   \n",
       "25%        0.000000e+00       0.000000e+00   1901.000000  0.000000e+00   \n",
       "50%        1.850000e+03       1.760000e+03   1925.000000  2.500000e+05   \n",
       "75%        2.500000e+03       3.000000e+03   1950.000000  6.141970e+05   \n",
       "max        7.446955e+06       2.548000e+06   2013.000000  2.769470e+08   \n",
       "\n",
       "       TOTAL SQUARE FEET  \n",
       "count       2.337300e+04  \n",
       "mean        6.564233e+03  \n",
       "std         8.947425e+04  \n",
       "min         0.000000e+00  \n",
       "25%         0.000000e+00  \n",
       "50%         3.813000e+03  \n",
       "75%         5.374000e+03  \n",
       "max         8.992663e+06  "
      ]
     },
     "execution_count": 36,
     "metadata": {},
     "output_type": "execute_result"
    }
   ],
   "source": [
    "# Select features we are interested in\n",
    "sales = sales[[\"NEIGHBORHOOD\", \"BUILDING CLASS CATEGORY\", \"LAND SQUARE FEET\", \"GROSS SQUARE FEET\", \"YEAR BUILT\", \"SALE PRICE\"]]\n",
    "# Add a new feature for the total square feet\n",
    "sales[\"TOTAL SQUARE FEET\"] = sales[\"LAND SQUARE FEET\"] + sales[\"GROSS SQUARE FEET\"]\n",
    "sales.describe()"
   ]
  },
  {
   "cell_type": "code",
   "execution_count": 37,
   "id": "994a026b-5bc6-4cfa-9881-4961b040c851",
   "metadata": {},
   "outputs": [
    {
     "data": {
      "text/html": [
       "<div>\n",
       "<style scoped>\n",
       "    .dataframe tbody tr th:only-of-type {\n",
       "        vertical-align: middle;\n",
       "    }\n",
       "\n",
       "    .dataframe tbody tr th {\n",
       "        vertical-align: top;\n",
       "    }\n",
       "\n",
       "    .dataframe thead th {\n",
       "        text-align: right;\n",
       "    }\n",
       "</style>\n",
       "<table border=\"1\" class=\"dataframe\">\n",
       "  <thead>\n",
       "    <tr style=\"text-align: right;\">\n",
       "      <th></th>\n",
       "      <th>LAND SQUARE FEET</th>\n",
       "      <th>GROSS SQUARE FEET</th>\n",
       "      <th>YEAR BUILT</th>\n",
       "      <th>SALE PRICE</th>\n",
       "      <th>TOTAL SQUARE FEET</th>\n",
       "    </tr>\n",
       "  </thead>\n",
       "  <tbody>\n",
       "    <tr>\n",
       "      <th>count</th>\n",
       "      <td>7101.000000</td>\n",
       "      <td>7.101000e+03</td>\n",
       "      <td>7101.000000</td>\n",
       "      <td>7.101000e+03</td>\n",
       "      <td>7.101000e+03</td>\n",
       "    </tr>\n",
       "    <tr>\n",
       "      <th>mean</th>\n",
       "      <td>3555.689621</td>\n",
       "      <td>4.851353e+03</td>\n",
       "      <td>1930.487255</td>\n",
       "      <td>1.046705e+06</td>\n",
       "      <td>8.407042e+03</td>\n",
       "    </tr>\n",
       "    <tr>\n",
       "      <th>std</th>\n",
       "      <td>17424.871027</td>\n",
       "      <td>3.320359e+04</td>\n",
       "      <td>25.220956</td>\n",
       "      <td>4.159173e+06</td>\n",
       "      <td>4.757257e+04</td>\n",
       "    </tr>\n",
       "    <tr>\n",
       "      <th>min</th>\n",
       "      <td>396.000000</td>\n",
       "      <td>1.000000e+02</td>\n",
       "      <td>1901.000000</td>\n",
       "      <td>1.100000e+04</td>\n",
       "      <td>8.320000e+02</td>\n",
       "    </tr>\n",
       "    <tr>\n",
       "      <th>25%</th>\n",
       "      <td>1890.000000</td>\n",
       "      <td>1.824000e+03</td>\n",
       "      <td>1915.000000</td>\n",
       "      <td>3.900000e+05</td>\n",
       "      <td>3.896000e+03</td>\n",
       "    </tr>\n",
       "    <tr>\n",
       "      <th>50%</th>\n",
       "      <td>2080.000000</td>\n",
       "      <td>2.515000e+03</td>\n",
       "      <td>1925.000000</td>\n",
       "      <td>6.000000e+05</td>\n",
       "      <td>4.862000e+03</td>\n",
       "    </tr>\n",
       "    <tr>\n",
       "      <th>75%</th>\n",
       "      <td>2715.000000</td>\n",
       "      <td>3.572000e+03</td>\n",
       "      <td>1931.000000</td>\n",
       "      <td>8.800000e+05</td>\n",
       "      <td>6.250000e+03</td>\n",
       "    </tr>\n",
       "    <tr>\n",
       "      <th>max</th>\n",
       "      <td>905000.000000</td>\n",
       "      <td>2.548000e+06</td>\n",
       "      <td>2012.000000</td>\n",
       "      <td>2.769470e+08</td>\n",
       "      <td>3.453000e+06</td>\n",
       "    </tr>\n",
       "  </tbody>\n",
       "</table>\n",
       "</div>"
      ],
      "text/plain": [
       "       LAND SQUARE FEET  GROSS SQUARE FEET   YEAR BUILT    SALE PRICE  \\\n",
       "count       7101.000000       7.101000e+03  7101.000000  7.101000e+03   \n",
       "mean        3555.689621       4.851353e+03  1930.487255  1.046705e+06   \n",
       "std        17424.871027       3.320359e+04    25.220956  4.159173e+06   \n",
       "min          396.000000       1.000000e+02  1901.000000  1.100000e+04   \n",
       "25%         1890.000000       1.824000e+03  1915.000000  3.900000e+05   \n",
       "50%         2080.000000       2.515000e+03  1925.000000  6.000000e+05   \n",
       "75%         2715.000000       3.572000e+03  1931.000000  8.800000e+05   \n",
       "max       905000.000000       2.548000e+06  2012.000000  2.769470e+08   \n",
       "\n",
       "       TOTAL SQUARE FEET  \n",
       "count       7.101000e+03  \n",
       "mean        8.407042e+03  \n",
       "std         4.757257e+04  \n",
       "min         8.320000e+02  \n",
       "25%         3.896000e+03  \n",
       "50%         4.862000e+03  \n",
       "75%         6.250000e+03  \n",
       "max         3.453000e+06  "
      ]
     },
     "execution_count": 37,
     "metadata": {},
     "output_type": "execute_result"
    }
   ],
   "source": [
    "# Based on the above summary data (and prior EDA!!!), we should get rid of some missing/invalid data\n",
    "sales = sales[sales[\"NEIGHBORHOOD\"] != \"\"]\n",
    "sales = sales[sales[\"BUILDING CLASS CATEGORY\"] != \"\"]\n",
    "sales = sales[sales[\"LAND SQUARE FEET\"] > 0]\n",
    "sales = sales[sales[\"GROSS SQUARE FEET\"] > 0]\n",
    "sales = sales[sales[\"YEAR BUILT\"] > 1900]\n",
    "sales = sales[sales[\"SALE PRICE\"] > 10000]\n",
    "sales.describe()"
   ]
  },
  {
   "cell_type": "code",
   "execution_count": 38,
   "id": "4d60826b-f1d7-48a5-bb25-0538f4465aea",
   "metadata": {},
   "outputs": [
    {
     "data": {
      "text/plain": [
       "0.10397727272727272"
      ]
     },
     "execution_count": 38,
     "metadata": {},
     "output_type": "execute_result"
    }
   ],
   "source": [
    "# Now let's use KNN to see if we can predict the neighborhood of a sale based on\n",
    "# it's other various attributes\n",
    "\n",
    "# First let's rule out outliers\n",
    "sales_3std = sales[(np.abs(stats.zscore(sales[[\"GROSS SQUARE FEET\",\"LAND SQUARE FEET\",\"SALE PRICE\"]])) < 3).all(axis=1)].copy()\n",
    "\n",
    "# Our labels (y) are the neighborhood\n",
    "y = sales_3std[\"NEIGHBORHOOD\"]\n",
    "# Our predictors are everything else\n",
    "# Ignore building class because it is non-numeric (but maybe we could come up with a distance metric)\n",
    "# Ignore Total Square Feet because it's already included in gross and land\n",
    "x = sales_3std.drop([\"NEIGHBORHOOD\",\"BUILDING CLASS CATEGORY\",\"TOTAL SQUARE FEET\"],axis=1)\n",
    "\n",
    "# Split out data\n",
    "x_train, x_test, y_train, y_test = train_test_split(x, y, test_size=0.25,random_state=42)\n",
    "\n",
    "# Create and fit a classifier with the default K=5\n",
    "classifier = KNeighborsClassifier()\n",
    "classifier.fit(x_train, y_train)\n",
    "# Get the accuracy of our classifier on our test data\n",
    "classifier.score(x_test, y_test)"
   ]
  },
  {
   "cell_type": "code",
   "execution_count": 39,
   "id": "729a3674-6fce-41a8-b217-1b4e1ba75357",
   "metadata": {},
   "outputs": [
    {
     "data": {
      "text/html": [
       "<div>\n",
       "<style scoped>\n",
       "    .dataframe tbody tr th:only-of-type {\n",
       "        vertical-align: middle;\n",
       "    }\n",
       "\n",
       "    .dataframe tbody tr th {\n",
       "        vertical-align: top;\n",
       "    }\n",
       "\n",
       "    .dataframe thead th {\n",
       "        text-align: right;\n",
       "    }\n",
       "</style>\n",
       "<table border=\"1\" class=\"dataframe\">\n",
       "  <thead>\n",
       "    <tr style=\"text-align: right;\">\n",
       "      <th></th>\n",
       "      <th>GROSS SQUARE FEET</th>\n",
       "      <th>LAND SQUARE FEET</th>\n",
       "      <th>YEAR BUILT</th>\n",
       "      <th>SALE PRICE</th>\n",
       "    </tr>\n",
       "  </thead>\n",
       "  <tbody>\n",
       "    <tr>\n",
       "      <th>count</th>\n",
       "      <td>5.278000e+03</td>\n",
       "      <td>5.278000e+03</td>\n",
       "      <td>5.278000e+03</td>\n",
       "      <td>5.278000e+03</td>\n",
       "    </tr>\n",
       "    <tr>\n",
       "      <th>mean</th>\n",
       "      <td>7.175011e-17</td>\n",
       "      <td>2.965924e-18</td>\n",
       "      <td>-3.592207e-15</td>\n",
       "      <td>2.331195e-17</td>\n",
       "    </tr>\n",
       "    <tr>\n",
       "      <th>std</th>\n",
       "      <td>1.000095e+00</td>\n",
       "      <td>1.000095e+00</td>\n",
       "      <td>1.000095e+00</td>\n",
       "      <td>1.000095e+00</td>\n",
       "    </tr>\n",
       "    <tr>\n",
       "      <th>min</th>\n",
       "      <td>-9.048729e-01</td>\n",
       "      <td>-6.096863e-01</td>\n",
       "      <td>-1.164260e+00</td>\n",
       "      <td>-7.722413e-01</td>\n",
       "    </tr>\n",
       "    <tr>\n",
       "      <th>25%</th>\n",
       "      <td>-3.375384e-01</td>\n",
       "      <td>-3.188876e-01</td>\n",
       "      <td>-6.071248e-01</td>\n",
       "      <td>-4.171334e-01</td>\n",
       "    </tr>\n",
       "    <tr>\n",
       "      <th>50%</th>\n",
       "      <td>-2.703241e-01</td>\n",
       "      <td>-2.025681e-01</td>\n",
       "      <td>-2.091709e-01</td>\n",
       "      <td>-2.253184e-01</td>\n",
       "    </tr>\n",
       "    <tr>\n",
       "      <th>75%</th>\n",
       "      <td>-3.877645e-02</td>\n",
       "      <td>-2.577963e-02</td>\n",
       "      <td>2.960150e-02</td>\n",
       "      <td>3.043186e-02</td>\n",
       "    </tr>\n",
       "    <tr>\n",
       "      <th>max</th>\n",
       "      <td>1.879196e+01</td>\n",
       "      <td>1.534627e+01</td>\n",
       "      <td>3.253029e+00</td>\n",
       "      <td>1.196946e+01</td>\n",
       "    </tr>\n",
       "  </tbody>\n",
       "</table>\n",
       "</div>"
      ],
      "text/plain": [
       "       GROSS SQUARE FEET  LAND SQUARE FEET    YEAR BUILT    SALE PRICE\n",
       "count       5.278000e+03      5.278000e+03  5.278000e+03  5.278000e+03\n",
       "mean        7.175011e-17      2.965924e-18 -3.592207e-15  2.331195e-17\n",
       "std         1.000095e+00      1.000095e+00  1.000095e+00  1.000095e+00\n",
       "min        -9.048729e-01     -6.096863e-01 -1.164260e+00 -7.722413e-01\n",
       "25%        -3.375384e-01     -3.188876e-01 -6.071248e-01 -4.171334e-01\n",
       "50%        -2.703241e-01     -2.025681e-01 -2.091709e-01 -2.253184e-01\n",
       "75%        -3.877645e-02     -2.577963e-02  2.960150e-02  3.043186e-02\n",
       "max         1.879196e+01      1.534627e+01  3.253029e+00  1.196946e+01"
      ]
     },
     "execution_count": 39,
     "metadata": {},
     "output_type": "execute_result"
    }
   ],
   "source": [
    "# The accuracy was terrible...but our data was of many different scales.\n",
    "y = sales_3std[\"NEIGHBORHOOD\"]\n",
    "x = sales_3std.drop([\"NEIGHBORHOOD\",\"BUILDING CLASS CATEGORY\",\"TOTAL SQUARE FEET\"],axis=1)\n",
    "\n",
    "x_train, x_test, y_train, y_test = train_test_split(x, y, test_size=0.25,random_state=42)\n",
    "\n",
    "# Scale our data using sklearns standard scaler (this is not the only way you can scale)\n",
    "scaler = StandardScaler()\n",
    "x_train = scaler.fit_transform(x_train)\n",
    "x_test = scaler.transform(x_test)\n",
    "\n",
    "# Check to see what the scaled data looks like\n",
    "col_names = [\"GROSS SQUARE FEET\",\"LAND SQUARE FEET\", \"YEAR BUILT\", \"SALE PRICE\"]\n",
    "scaled_sales = pd.DataFrame(x_train, columns=col_names)\n",
    "scaled_sales.describe()"
   ]
  },
  {
   "cell_type": "code",
   "execution_count": 40,
   "id": "bc9b9dec-5eb6-471f-8e83-c6982f429005",
   "metadata": {},
   "outputs": [
    {
     "data": {
      "text/plain": [
       "0.22897727272727272"
      ]
     },
     "execution_count": 40,
     "metadata": {},
     "output_type": "execute_result"
    }
   ],
   "source": [
    "# Now re-train and re-score our model\n",
    "classifier = KNeighborsClassifier()\n",
    "classifier.fit(x_train, y_train)\n",
    "classifier.score(x_test, y_test)"
   ]
  },
  {
   "cell_type": "code",
   "execution_count": 43,
   "id": "2b8dcc68-5e82-4b54-9b1e-dc749d68aaaf",
   "metadata": {},
   "outputs": [
    {
     "data": {
      "text/plain": [
       "0.54375"
      ]
     },
     "execution_count": 43,
     "metadata": {},
     "output_type": "execute_result"
    }
   ],
   "source": [
    "# Significantly better but still not great...\n",
    "# What if we try predicting the building class instead?\n",
    "y = sales_3std[\"BUILDING CLASS CATEGORY\"]\n",
    "x = sales_3std.drop([\"NEIGHBORHOOD\",\"BUILDING CLASS CATEGORY\",\"TOTAL SQUARE FEET\"],axis=1)\n",
    "\n",
    "x_train, x_test, y_train, y_test = train_test_split(x, y, test_size=0.25,random_state=42)\n",
    "\n",
    "scaler = StandardScaler()\n",
    "x_train = scaler.fit_transform(x_train)\n",
    "x_test = scaler.transform(x_test)\n",
    "\n",
    "classifier = KNeighborsClassifier()\n",
    "classifier.fit(x_train, y_train)\n",
    "y_pred = classifier.predict(x_test)\n",
    "classifier.score(x_test, y_test)"
   ]
  },
  {
   "cell_type": "code",
   "execution_count": 47,
   "id": "0c65e097-80a9-41d2-b5b6-9dba7df478ab",
   "metadata": {},
   "outputs": [
    {
     "name": "stdout",
     "output_type": "stream",
     "text": [
      "                                    precision    recall  f1-score   support\n",
      "\n",
      "              01  ONE FAMILY HOMES       0.59      0.62      0.61       408\n",
      "              02  TWO FAMILY HOMES       0.55      0.70      0.61       680\n",
      "            03  THREE FAMILY HOMES       0.34      0.19      0.24       242\n",
      "       05  TAX CLASS 1 VACANT LAND       0.00      0.00      0.00         1\n",
      "   07  RENTALS - WALKUP APARTMENTS       0.61      0.63      0.62       234\n",
      " 08  RENTALS - ELEVATOR APARTMENTS       0.77      0.67      0.71        15\n",
      "   10  COOPS - ELEVATOR APARTMENTS       1.00      1.00      1.00         1\n",
      "           14  RENTALS - 4-10 UNIT       0.46      0.20      0.28        56\n",
      "              21  OFFICE BUILDINGS       0.30      0.14      0.19        21\n",
      "               22  STORE BUILDINGS       0.20      0.10      0.14        39\n",
      "                  26  OTHER HOTELS       0.00      0.00      0.00         1\n",
      "                     27  FACTORIES       0.00      0.00      0.00        16\n",
      "            29  COMMERCIAL GARAGES       0.40      0.14      0.21        14\n",
      "                    30  WAREHOUSES       0.25      0.09      0.13        22\n",
      "32  HOSPITAL AND HEALTH FACILITIES       0.00      0.00      0.00         2\n",
      "        33  EDUCATIONAL FACILITIES       0.00      0.00      0.00         2\n",
      "          37  RELIGIOUS FACILITIES       0.00      0.00      0.00         4\n",
      "           41  TAX CLASS 4 - OTHER       0.00      0.00      0.00         2\n",
      "\n",
      "                          accuracy                           0.54      1760\n",
      "                         macro avg       0.30      0.25      0.26      1760\n",
      "                      weighted avg       0.51      0.54      0.52      1760\n",
      "\n"
     ]
    }
   ],
   "source": [
    "# Much better accuracy...the predictors we are using seem better suited to\n",
    "# predict building class than neighborhood. Let's see other stats for our model.\n",
    "print(classification_report(y_test, y_pred,zero_division=0))"
   ]
  },
  {
   "cell_type": "code",
   "execution_count": 29,
   "id": "0f6387ab-a184-4af4-8a1f-8f25eab4b29a",
   "metadata": {},
   "outputs": [
    {
     "data": {
      "text/plain": [
       "[<matplotlib.lines.Line2D at 0x7fd6b22343d0>]"
      ]
     },
     "execution_count": 29,
     "metadata": {},
     "output_type": "execute_result"
    },
    {
     "data": {
      "image/png": "[encoded data removed]",
      "text/plain": [
       "<Figure size 432x288 with 1 Axes>"
      ]
     },
     "metadata": {
      "needs_background": "light"
     },
     "output_type": "display_data"
    }
   ],
   "source": [
    "# One thing to notice is that there are a lot of 0 values...this occurs when there are\n",
    "# either no predictions, or no truths for that category...so we may want more data,\n",
    "# or maybe we could combine some categories sensibly (but that requires domain knowledge).\n",
    "acc = []\n",
    "\n",
    "for i in range(1,40):\n",
    "    classifier = KNeighborsClassifier(n_neighbors=i)\n",
    "    classifier.fit(x_train, y_train)\n",
    "    acc.append(classifier.score(x_test, y_test))\n",
    "plt.plot(range(1,40), acc, marker='o')"
   ]
  },
  {
   "cell_type": "code",
   "execution_count": 30,
   "id": "f531ec7f-42b0-4162-ad3c-0ad0df36b6e3",
   "metadata": {},
   "outputs": [
    {
     "data": {
      "text/plain": [
       "<matplotlib.collections.PathCollection at 0x7fd6b0982c40>"
      ]
     },
     "execution_count": 30,
     "metadata": {},
     "output_type": "execute_result"
    },
    {
     "data": {
      "image/png": "[encoded data removed]",
      "text/plain": [
       "<Figure size 432x288 with 1 Axes>"
      ]
     },
     "metadata": {
      "needs_background": "light"
     },
     "output_type": "display_data"
    }
   ],
   "source": [
    "# Lets try to cluster our data, based on price and year and run our classifier on the clusters instead\n",
    "plt.scatter(sales_3std[\"YEAR BUILT\"], sales_3std[\"SALE PRICE\"])"
   ]
  },
  {
   "cell_type": "code",
   "execution_count": 31,
   "id": "62aeb94e-e7a6-4d5f-921c-7204d5dee80f",
   "metadata": {},
   "outputs": [
    {
     "data": {
      "text/plain": [
       "<matplotlib.collections.PathCollection at 0x7fd6b1dd84c0>"
      ]
     },
     "execution_count": 31,
     "metadata": {},
     "output_type": "execute_result"
    },
    {
     "data": {
      "image/png": "[encoded data removed]",
      "text/plain": [
       "<Figure size 432x288 with 1 Axes>"
      ]
     },
     "metadata": {
      "needs_background": "light"
     },
     "output_type": "display_data"
    }
   ],
   "source": [
    "scaler = StandardScaler()\n",
    "scaled_kmeans = pd.DataFrame(scaler.fit_transform(sales_3std[[\"YEAR BUILT\", \"SALE PRICE\"]]),columns=[\"YEAR BUILT\",\"SALE PRICE\"])\n",
    "\n",
    "kmeans = KMeans(n_clusters = 5).fit(scaled_kmeans)\n",
    "centroids = scaler.inverse_transform(kmeans.cluster_centers_)\n",
    "plt.scatter(sales_3std[\"YEAR BUILT\"], sales_3std[\"SALE PRICE\"], c=kmeans.labels_.astype(float), s=50, alpha=0.5)\n",
    "plt.scatter(centroids[:,0], centroids[:,1], c='red', s=50)"
   ]
  },
  {
   "cell_type": "code",
   "execution_count": 32,
   "id": "a1ff9bc0-1e67-4608-841a-5a16c9144282",
   "metadata": {},
   "outputs": [
    {
     "name": "stdout",
     "output_type": "stream",
     "text": [
      "       LAND SQUARE FEET  GROSS SQUARE FEET   YEAR BUILT    SALE PRICE  \\\n",
      "count        945.000000          945.00000   945.000000  9.450000e+02   \n",
      "mean        2841.378836         2755.55873  1954.378836  5.573056e+05   \n",
      "std         2260.872936         5101.46761     9.808029  2.938690e+05   \n",
      "min          849.000000          725.00000  1937.000000  1.222300e+04   \n",
      "25%         1960.000000         1725.00000  1945.000000  3.780000e+05   \n",
      "50%         2123.000000         2070.00000  1955.000000  5.200000e+05   \n",
      "75%         2950.000000         2760.00000  1960.000000  6.950000e+05   \n",
      "max        27203.000000        98304.00000  1978.000000  2.200000e+06   \n",
      "\n",
      "       TOTAL SQUARE FEET  CLUSTER  \n",
      "count         945.000000    945.0  \n",
      "mean         5596.937566      4.0  \n",
      "std          6731.591826      0.0  \n",
      "min          2089.000000      4.0  \n",
      "25%          3721.000000      4.0  \n",
      "50%          4286.000000      4.0  \n",
      "75%          5720.000000      4.0  \n",
      "max        116924.000000      4.0  \n"
     ]
    }
   ],
   "source": [
    "sales_3std[\"CLUSTER\"] = np.array(kmeans.labels_)\n",
    "print(sales_3std[sales_3std[\"CLUSTER\"]==4].describe())\n",
    "new_cheap = sales_3std[sales_3std[\"CLUSTER\"]==4].copy()"
   ]
  },
  {
   "cell_type": "code",
   "execution_count": 15,
   "id": "971c0fe0-78f1-467a-8cca-888fe9314116",
   "metadata": {},
   "outputs": [
    {
     "data": {
      "text/plain": [
       "[<matplotlib.lines.Line2D at 0x7fd6b0118520>]"
      ]
     },
     "execution_count": 15,
     "metadata": {},
     "output_type": "execute_result"
    },
    {
     "data": {
      "image/png": "[encoded data removed]",
      "text/plain": [
       "<Figure size 432x288 with 1 Axes>"
      ]
     },
     "metadata": {
      "needs_background": "light"
     },
     "output_type": "display_data"
    }
   ],
   "source": [
    "y = new_cheap[\"BUILDING CLASS CATEGORY\"]\n",
    "x = new_cheap.drop([\"NEIGHBORHOOD\",\"BUILDING CLASS CATEGORY\",\"TOTAL SQUARE FEET\"],axis=1)\n",
    "\n",
    "x_train, x_test, y_train, y_test = train_test_split(x, y, test_size=0.25,random_state=42)\n",
    "\n",
    "scaler = StandardScaler()\n",
    "x_train = scaler.fit_transform(x_train)\n",
    "x_test = scaler.transform(x_test)\n",
    "\n",
    "acc = []\n",
    "\n",
    "for i in range(1,40):\n",
    "    classifier = KNeighborsClassifier(n_neighbors=i)\n",
    "    classifier.fit(x_train, y_train)\n",
    "    acc.append(classifier.score(x_test, y_test))\n",
    "plt.plot(range(1,40), acc, marker='o')"
   ]
  },
  {
   "cell_type": "code",
   "execution_count": null,
   "id": "37d87443-c4b7-4692-a1a8-c5eaf19a2513",
   "metadata": {},
   "outputs": [],
   "source": []
  }
 ],
 "metadata": {
  "kernelspec": {
   "display_name": "Python 3 (ipykernel)",
   "language": "python",
   "name": "python3"
  },
  "language_info": {
   "codemirror_mode": {
    "name": "ipython",
    "version": 3
   },
   "file_extension": ".py",
   "mimetype": "text/x-python",
   "name": "python",
   "nbconvert_exporter": "python",
   "pygments_lexer": "ipython3",
   "version": "3.9.12"
  }
 },
 "nbformat": 4,
 "nbformat_minor": 5
}
